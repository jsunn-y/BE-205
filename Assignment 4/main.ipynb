{
 "cells": [
  {
   "cell_type": "code",
   "execution_count": 1,
   "metadata": {},
   "outputs": [
    {
     "name": "stderr",
     "output_type": "stream",
     "text": [
      "/home/jyang4/miniconda3/envs/BE-205/lib/python3.11/site-packages/tqdm/auto.py:21: TqdmWarning: IProgress not found. Please update jupyter and ipywidgets. See https://ipywidgets.readthedocs.io/en/stable/user_install.html\n",
      "  from .autonotebook import tqdm as notebook_tqdm\n"
     ]
    }
   ],
   "source": [
    "import torch\n",
    "import torch.nn as nn\n",
    "import torch.nn.functional as F\n",
    "\n",
    "import matplotlib.pyplot as plt\n",
    "from torch.utils.data import DataLoader, TensorDataset\n",
    "from sklearn.model_selection import train_test_split\n",
    "from sklearn.decomposition import PCA\n",
    "import datasets"
   ]
  },
  {
   "cell_type": "code",
   "execution_count": 2,
   "metadata": {},
   "outputs": [
    {
     "data": {
      "text/plain": [
       "18239"
      ]
     },
     "execution_count": 2,
     "metadata": {},
     "output_type": "execute_result"
    }
   ],
   "source": [
    "#for testing only\n",
    "# words = open(\"names.txt\").read().splitlines() # Load the words\n",
    "# len(words)"
   ]
  },
  {
   "cell_type": "code",
   "execution_count": 3,
   "metadata": {},
   "outputs": [
    {
     "name": "stderr",
     "output_type": "stream",
     "text": [
      "Found cached dataset parquet (/home/jyang4/.cache/huggingface/datasets/damlab___parquet/damlab--uniprot-28c00e1433a53e45/0.0.0/2a3b91fbd88a2c90d1dbbb32b460cf621d31bd5b05b934492fdef7d8d6f236ec)\n",
      "100%|██████████| 1/1 [00:00<00:00, 103.08it/s]\n"
     ]
    },
    {
     "name": "stdout",
     "output_type": "stream",
     "text": [
      "MAFSAEDVLKEYDRRRRMEALLLSLYYPNDRKLLDYKEWSPPRVQVECPKAPVEWNNPPSEKGLIVGHFSGIKYKGEKAQASEVDVNKMCCWVSKFKDAMRRYQGIQTCKIPGKVLSDLDAKIKAYNLTVEGVEGFVRYSRVTKQHVAAFLKELRHSKQYENVNLIHYILTDKRVDIQHLEKDLVKDFKALVESAHRMRQGHMINVKYILYQLLKKHGHGPDGPDILTVKTGSKGVLYDDSFRKIYTDLGWKFTPL\n"
     ]
    },
    {
     "data": {
      "text/plain": [
       "5669"
      ]
     },
     "execution_count": 3,
     "metadata": {},
     "output_type": "execute_result"
    }
   ],
   "source": [
    "ds = datasets.load_dataset(\"damlab/uniprot\")\n",
    "words = ds[\"train\"][\"sequence\"]\n",
    "print(words[0])\n",
    "#Subset the dataset a lot to reduce training time\n",
    "words = train_test_split(words, test_size=0.99, random_state=42)[0]\n",
    "len(words)"
   ]
  },
  {
   "cell_type": "code",
   "execution_count": 4,
   "metadata": {},
   "outputs": [],
   "source": [
    "chars = sorted(set(\"\".join(words))) # Get the unique characters\n",
    "char_to_id = {c: i for i, c in enumerate(chars)} # Create a mapping from characters to IDs\n",
    "num_tokens = len(char_to_id)\n",
    "char_to_id['.'] = num_tokens #Add stop token\n",
    "id_to_char = {i: c for i, c in enumerate(chars)} # Create a mapping from IDs to characters\n",
    "id_to_char[num_tokens] = '.' #Add stop token\n",
    "\n",
    "num_tokens = len(char_to_id)"
   ]
  },
  {
   "cell_type": "code",
   "execution_count": 5,
   "metadata": {},
   "outputs": [],
   "source": [
    "#tiktoken is a byte tokenization method that is more efficient\n",
    "#common strings get concatenated to keep a smaller vocabulary"
   ]
  },
  {
   "cell_type": "code",
   "execution_count": 6,
   "metadata": {},
   "outputs": [],
   "source": [
    "def make_dataset(words, context_length=10):\n",
    "    \"\"\"\n",
    "    Creates encoding dataset from a list of words\n",
    "    Args: List of words\n",
    "    Returns: X, y\n",
    "    X: Encodings of contexts\n",
    "    y: Encodings of the next character\n",
    "    \"\"\"\n",
    "    X, y = [], []\n",
    "    for word in words:\n",
    "        context = [0] * context_length\n",
    "        for char in word + '.':\n",
    "            X.append(context)\n",
    "            y.append(char_to_id[char])\n",
    "            context = context[1:] + [char_to_id[char]]\n",
    "    X, y = torch.tensor(X), torch.tensor(y)\n",
    "    return X, y"
   ]
  },
  {
   "cell_type": "code",
   "execution_count": 9,
   "metadata": {},
   "outputs": [],
   "source": [
    "# embedding_dim = 16 # Embedding dimension\n",
    "# C = nn.Embedding(num_tokens, embedding_dim) # Embedding layer\n",
    "# C(X).shape #batch size x context length x embedding size"
   ]
  },
  {
   "cell_type": "code",
   "execution_count": 7,
   "metadata": {},
   "outputs": [
    {
     "data": {
      "text/plain": [
       "2082557"
      ]
     },
     "execution_count": 7,
     "metadata": {},
     "output_type": "execute_result"
    }
   ],
   "source": [
    "context_length = 20 # Length of the context\n",
    "X_all, y_all = make_dataset(words, context_length)\n",
    "data_loader = DataLoader(TensorDataset(X_all, y_all), batch_size=2048, shuffle=True)\n",
    "len(X_all)"
   ]
  },
  {
   "cell_type": "code",
   "execution_count": 8,
   "metadata": {},
   "outputs": [],
   "source": [
    "class ConvolutionalModel(nn.Module):\n",
    "    def __init__(self, embed_dim=128, hidden_dim=64, num_tokens=num_tokens, context_length=context_length):\n",
    "        \"\"\"\n",
    "        Convolutional architecture, lower costs than transformer and may be just as expressive.\n",
    "        \"\"\"\n",
    "        super().__init__()\n",
    "        self.inp_dim = embed_dim * context_length\n",
    "        self.C = nn.Embedding(num_tokens, embed_dim)\n",
    "        self.conv1 = nn.Conv1d(in_channels=context_length, out_channels=hidden_dim, kernel_size=5, padding=\"same\")\n",
    "        self.relu = nn.ReLU()\n",
    "        self.conv2 = nn.Conv1d(in_channels=hidden_dim, out_channels=hidden_dim, kernel_size=5, padding=\"same\")\n",
    "        self.conv3 = nn.Conv1d(in_channels=hidden_dim, out_channels=hidden_dim, kernel_size=5, padding=\"same\")\n",
    "        self.flatten = nn.Flatten()\n",
    "        self.fc = nn.Linear(hidden_dim * embed_dim, num_tokens)\n",
    "        \n",
    "    def forward(self, x):\n",
    "        x = self.C(x) #output is batch size x context length x embedding size\n",
    "        h = self.conv1(x)\n",
    "        h = self.relu(h)\n",
    "        h = self.conv2(h)\n",
    "        h = self.relu(h)\n",
    "        h = self.conv3(h)\n",
    "        h = self.relu(h)\n",
    "        h = self.flatten(h)\n",
    "        x = self.fc(h)\n",
    "        return x"
   ]
  },
  {
   "cell_type": "code",
   "execution_count": 11,
   "metadata": {},
   "outputs": [
    {
     "name": "stdout",
     "output_type": "stream",
     "text": [
      "cuda\n",
      "Epoch 1, loss 2.88\n",
      "Epoch 2, loss 2.86\n",
      "Epoch 3, loss 2.85\n",
      "Epoch 4, loss 2.85\n",
      "Epoch 5, loss 2.84\n",
      "Epoch 6, loss 2.84\n",
      "Epoch 7, loss 2.83\n",
      "Epoch 8, loss 2.83\n",
      "Epoch 9, loss 2.82\n",
      "Epoch 10, loss 2.82\n"
     ]
    }
   ],
   "source": [
    "device = torch.device(\"cuda\" if torch.cuda.is_available() else \"cpu\")\n",
    "print(device)\n",
    "\n",
    "model = ConvolutionalModel()\n",
    "model.to(device)\n",
    "model.train()\n",
    "optimizer = torch.optim.Adam(model.parameters(), lr=1e-4)\n",
    "losses = []\n",
    "\n",
    "for epoch in range(10):\n",
    "    total_loss = 0\n",
    "    for step, batch in enumerate(data_loader):\n",
    "        optimizer.zero_grad()\n",
    "        x = batch[0].to(device)\n",
    "        y = batch[1].to(device)\n",
    "\n",
    "        y_pred = model(x)\n",
    "        loss = F.cross_entropy(y_pred, y, reduction=\"sum\")\n",
    "        total_loss += loss.item()\n",
    "\n",
    "        optimizer.zero_grad()\n",
    "        loss.backward()\n",
    "        optimizer.step()\n",
    "\n",
    "    avg_loss = total_loss / len(X_all)\n",
    "    losses.append(avg_loss)\n",
    "\n",
    "    if epoch % 1 == 0:\n",
    "        print(f\"Epoch {epoch + 1}, loss {avg_loss:.2f}\")\n",
    "        "
   ]
  },
  {
   "cell_type": "code",
   "execution_count": 12,
   "metadata": {},
   "outputs": [
    {
     "data": {
      "text/plain": [
       "tensor(3.1781)"
      ]
     },
     "execution_count": 12,
     "metadata": {},
     "output_type": "execute_result"
    }
   ],
   "source": [
    "-torch.log(torch.tensor(1/num_tokens))"
   ]
  },
  {
   "cell_type": "code",
   "execution_count": 13,
   "metadata": {},
   "outputs": [],
   "source": [
    "for name, param in model.named_parameters():\n",
    "    if name == \"C.weight\":\n",
    "        weights = param.cpu().detach().numpy()"
   ]
  },
  {
   "cell_type": "code",
   "execution_count": 14,
   "metadata": {},
   "outputs": [
    {
     "data": {
      "text/plain": [
       "Text(0, 0.5, 'PC2')"
      ]
     },
     "execution_count": 14,
     "metadata": {},
     "output_type": "execute_result"
    },
    {
     "data": {
      "image/png": "[encoded data removed]",
      "text/plain": [
       "<Figure size 640x480 with 1 Axes>"
      ]
     },
     "metadata": {},
     "output_type": "display_data"
    }
   ],
   "source": [
    "pca = PCA(n_components=2)\n",
    "transformed = pca.fit_transform(weights)\n",
    "\n",
    "plt.scatter(transformed[:, 0], transformed[:, 1], s=50)\n",
    "for i, char in enumerate(chars):\n",
    "    plt.annotate(char, xy=(transformed[i, 0], transformed[i, 1]))\n",
    "plt.xlabel(\"PC1\")\n",
    "plt.ylabel(\"PC2\")"
   ]
  },
  {
   "cell_type": "code",
   "execution_count": null,
   "metadata": {},
   "outputs": [],
   "source": []
  }
 ],
 "metadata": {
  "kernelspec": {
   "display_name": "ProtGraphR",
   "language": "python",
   "name": "python3"
  },
  "language_info": {
   "codemirror_mode": {
    "name": "ipython",
    "version": 3
   },
   "file_extension": ".py",
   "mimetype": "text/x-python",
   "name": "python",
   "nbconvert_exporter": "python",
   "pygments_lexer": "ipython3",
   "version": "3.11.3"
  },
  "orig_nbformat": 4
 },
 "nbformat": 4,
 "nbformat_minor": 2
}
